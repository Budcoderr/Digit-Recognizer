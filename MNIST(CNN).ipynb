{
  "nbformat": 4,
  "nbformat_minor": 0,
  "metadata": {
    "colab": {
      "name": "MNIST(CNN)",
      "version": "0.3.2",
      "provenance": []
    },
    "kernelspec": {
      "name": "python3",
      "display_name": "Python 3"
    }
  },
  "cells": [
    {
      "cell_type": "code",
      "metadata": {
        "id": "2jHaGiKQEYje",
        "colab_type": "code",
        "colab": {}
      },
      "source": [
        "import tensorflow as tf"
      ],
      "execution_count": 0,
      "outputs": []
    },
    {
      "cell_type": "code",
      "metadata": {
        "id": "4BuCtWEMH86H",
        "colab_type": "code",
        "colab": {}
      },
      "source": [
        "from tensorflow.examples.tutorials.mnist import input_data"
      ],
      "execution_count": 0,
      "outputs": []
    },
    {
      "cell_type": "code",
      "metadata": {
        "id": "KKU_9dTCIKxN",
        "colab_type": "code",
        "colab": {
          "base_uri": "https://localhost:8080/",
          "height": 90
        },
        "outputId": "0ee5ee44-8ca9-4536-c128-be00f42b774e"
      },
      "source": [
        "mnist=input_data.read_data_sets(\"MNISTS_data/\",one_hot=True)"
      ],
      "execution_count": 5,
      "outputs": [
        {
          "output_type": "stream",
          "text": [
            "Extracting MNISTS_data/train-images-idx3-ubyte.gz\n",
            "Extracting MNISTS_data/train-labels-idx1-ubyte.gz\n",
            "Extracting MNISTS_data/t10k-images-idx3-ubyte.gz\n",
            "Extracting MNISTS_data/t10k-labels-idx1-ubyte.gz\n"
          ],
          "name": "stdout"
        }
      ]
    },
    {
      "cell_type": "code",
      "metadata": {
        "id": "EwnYSw95Kg-0",
        "colab_type": "code",
        "colab": {}
      },
      "source": [
        "#INITIALIZING WEIGHTS\n",
        "def init_weights(shape):\n",
        "  init_ran_distr=tf.truncated_normal(shape,stddev=0.1)\n",
        "  return tf.Variable(init_ran_distr)"
      ],
      "execution_count": 0,
      "outputs": []
    },
    {
      "cell_type": "code",
      "metadata": {
        "id": "0NeiWmxeOics",
        "colab_type": "code",
        "colab": {}
      },
      "source": [
        "#INITIALIZING BIAS\n",
        "def init_bias(shape):\n",
        "  init_bias_val=tf.constant(0.1,shape=shape)\n",
        "  return tf.Variable(init_bias_val)"
      ],
      "execution_count": 0,
      "outputs": []
    },
    {
      "cell_type": "code",
      "metadata": {
        "id": "E8PgAJsQO_IZ",
        "colab_type": "code",
        "colab": {}
      },
      "source": [
        "#FUNCTION FOR 2D CONVOLUTION\n",
        "def conv2d(x,W):            \n",
        "  #x:input tensor [batch,H,Width,Channels]  W:filter/kernel [filter H, filter W, Channels IN, Channels OUT]\n",
        "  return tf.nn.conv2d(x,W,strides=[1,1,1,1],padding='SAME')"
      ],
      "execution_count": 0,
      "outputs": []
    },
    {
      "cell_type": "code",
      "metadata": {
        "id": "fOsYUKlFQ4Q_",
        "colab_type": "code",
        "colab": {}
      },
      "source": [
        "#POOLING\n",
        "def max_pool(x):\n",
        "  #2 by 2 pooling\n",
        "  return tf.nn.max_pool(x,ksize=[1,2,2,1],strides=[1,2,2,1],padding='SAME') \n",
        "#ksize -->window size for each dimension of input tensor\n",
        "#input tensor --> bunch of images of batch dimension"
      ],
      "execution_count": 0,
      "outputs": []
    },
    {
      "cell_type": "code",
      "metadata": {
        "id": "p7BukcYwWAvn",
        "colab_type": "code",
        "colab": {}
      },
      "source": [
        "#CREATING CONVOLUTIONAL LAYERS\n",
        "def conv_layers(input_x,shape):\n",
        "  W=init_weights(shape)\n",
        "  b=init_bias([shape[3]])\n",
        "  return tf.nn.relu(conv2d(input_x,W)+b)\n"
      ],
      "execution_count": 0,
      "outputs": []
    },
    {
      "cell_type": "code",
      "metadata": {
        "id": "BjUFjQrHhEUY",
        "colab_type": "code",
        "colab": {}
      },
      "source": [
        "#FULLY CONNECTED LAYER\n",
        "def full_layer(input_layer,size):\n",
        "  in_size=int(input_layer.get_shape()[1])\n",
        "  W=init_weights([in_size,size])\n",
        "  b=init_bias([size])\n",
        "  return tf.matmul(input_layer, W) + b"
      ],
      "execution_count": 0,
      "outputs": []
    },
    {
      "cell_type": "code",
      "metadata": {
        "id": "crS3KYuri3tH",
        "colab_type": "code",
        "colab": {}
      },
      "source": [
        "#PLACEHOLDERS\n",
        "x=tf.placeholder(tf.float32,shape=[None,784])\n"
      ],
      "execution_count": 0,
      "outputs": []
    },
    {
      "cell_type": "code",
      "metadata": {
        "id": "MBRoBUq7yXea",
        "colab_type": "code",
        "colab": {}
      },
      "source": [
        "y_true=tf.placeholder(tf.float32,shape=[None,10])"
      ],
      "execution_count": 0,
      "outputs": []
    },
    {
      "cell_type": "code",
      "metadata": {
        "id": "F34mce1AydZV",
        "colab_type": "code",
        "colab": {}
      },
      "source": [
        "#LAYERS\n",
        "x_img=tf.reshape(x,[-1,28,28,1]) #reshaping flattened array into image again 1 stands for one channel(gray-scale)"
      ],
      "execution_count": 0,
      "outputs": []
    },
    {
      "cell_type": "code",
      "metadata": {
        "id": "GCy5KV_6y1xE",
        "colab_type": "code",
        "colab": {}
      },
      "source": [
        "#first conv layer\n",
        "conv1=conv_layers(x_img,shape=[5,5,1,32]) #computes 32 features for each 5 by 5 batch , 1 in input channel(grayscale)\n",
        "conv1_pool=max_pool(conv1)\n"
      ],
      "execution_count": 0,
      "outputs": []
    },
    {
      "cell_type": "code",
      "metadata": {
        "id": "I_6kJljX1TTq",
        "colab_type": "code",
        "colab": {}
      },
      "source": [
        "#another conv layer\n",
        "conv2=conv_layers(conv1_pool,shape=[5,5,32,64])\n",
        "conv2_pool=max_pool(conv2)"
      ],
      "execution_count": 0,
      "outputs": []
    },
    {
      "cell_type": "code",
      "metadata": {
        "id": "yAXW2mTM156F",
        "colab_type": "code",
        "colab": {}
      },
      "source": [
        "conv2_flat=tf.reshape(conv2_pool,[-1,7*7*64])\n",
        "full_layer1=tf.nn.relu(full_layer(conv2_flat,1024))"
      ],
      "execution_count": 0,
      "outputs": []
    },
    {
      "cell_type": "code",
      "metadata": {
        "id": "5EyP7JEE2cnM",
        "colab_type": "code",
        "colab": {}
      },
      "source": [
        "#DROPOUT\n",
        "hold_prob=tf.placeholder(tf.float32) #probability that a neuron is held during dropout\n",
        "f1_dpout=tf.nn.dropout(full_layer1,keep_prob=hold_prob)"
      ],
      "execution_count": 0,
      "outputs": []
    },
    {
      "cell_type": "code",
      "metadata": {
        "id": "l4W9umn-5vbS",
        "colab_type": "code",
        "colab": {}
      },
      "source": [
        "y_pred=full_layer(f1_dpout,10)"
      ],
      "execution_count": 0,
      "outputs": []
    },
    {
      "cell_type": "code",
      "metadata": {
        "id": "RGlo4xI56Q3x",
        "colab_type": "code",
        "colab": {}
      },
      "source": [
        "#LOSS FUNCTION\n",
        "\n",
        "cross_entropy=tf.reduce_mean(tf.nn.softmax_cross_entropy_with_logits(labels=y_true,logits=y_pred))\n",
        "\n"
      ],
      "execution_count": 0,
      "outputs": []
    },
    {
      "cell_type": "code",
      "metadata": {
        "id": "xQvWnXWd622C",
        "colab_type": "code",
        "colab": {}
      },
      "source": [
        "#OPTIMIZER\n",
        "opt=tf.train.AdamOptimizer(learning_rate=0.001)\n",
        "train=opt.minimize(cross_entropy)"
      ],
      "execution_count": 0,
      "outputs": []
    },
    {
      "cell_type": "code",
      "metadata": {
        "id": "H8RkFWVc7Uho",
        "colab_type": "code",
        "colab": {}
      },
      "source": [
        "init=tf.global_variables_initializer()"
      ],
      "execution_count": 0,
      "outputs": []
    },
    {
      "cell_type": "code",
      "metadata": {
        "id": "c-DdXf307gMh",
        "colab_type": "code",
        "colab": {
          "base_uri": "https://localhost:8080/",
          "height": 4609
        },
        "outputId": "7a41d3be-2511-4933-c68d-90d2c57ab924"
      },
      "source": [
        "with tf.Session() as s:\n",
        "  s.run(init)\n",
        "  \n",
        "  for steps in range(5000):\n",
        "    #training the model\n",
        "    batch_x, batch_y=mnist.train.next_batch(50)   #returns tupples with x(784 pixels) and y(10 labels)\n",
        "    s.run(train, feed_dict={x:batch_x,y_true:batch_y,hold_prob:0.5})\n",
        "    \n",
        "    #EVALUATING THE MODEL\n",
        "    if steps%100==0:\n",
        "      print(\"ON STEP: {}\".format(steps))\n",
        "      print(\"ACCURACY: \")\n",
        "      \n",
        "      corr_pred=tf.equal(tf.argmax(y_pred,1),tf.argmax(y_true,1))    #index position of label of highest probability along axis 1\n",
        "\n",
        "      acc=tf.reduce_mean(tf.cast(corr_pred,tf.float32)) #converting[true,false,true,_ _ _]--> [1,0,1,_ _ _] and taking average\n",
        "\n",
        "      print(s.run(acc,feed_dict={x:mnist.test.images,y_true:mnist.test.labels,hold_prob:1.0})) #no dropping of neurons during testing\n",
        "      print('\\n')"
      ],
      "execution_count": 63,
      "outputs": [
        {
          "output_type": "stream",
          "text": [
            "ON STEP: 0\n",
            "ACCURACY: \n",
            "0.1027\n",
            "\n",
            "\n",
            "ON STEP: 100\n",
            "ACCURACY: \n",
            "0.9476\n",
            "\n",
            "\n",
            "ON STEP: 200\n",
            "ACCURACY: \n",
            "0.9526\n",
            "\n",
            "\n",
            "ON STEP: 300\n",
            "ACCURACY: \n",
            "0.9715\n",
            "\n",
            "\n",
            "ON STEP: 400\n",
            "ACCURACY: \n",
            "0.9738\n",
            "\n",
            "\n",
            "ON STEP: 500\n",
            "ACCURACY: \n",
            "0.9787\n",
            "\n",
            "\n",
            "ON STEP: 600\n",
            "ACCURACY: \n",
            "0.9786\n",
            "\n",
            "\n",
            "ON STEP: 700\n",
            "ACCURACY: \n",
            "0.9803\n",
            "\n",
            "\n",
            "ON STEP: 800\n",
            "ACCURACY: \n",
            "0.9848\n",
            "\n",
            "\n",
            "ON STEP: 900\n",
            "ACCURACY: \n",
            "0.9847\n",
            "\n",
            "\n",
            "ON STEP: 1000\n",
            "ACCURACY: \n",
            "0.9832\n",
            "\n",
            "\n",
            "ON STEP: 1100\n",
            "ACCURACY: \n",
            "0.9858\n",
            "\n",
            "\n",
            "ON STEP: 1200\n",
            "ACCURACY: \n",
            "0.9854\n",
            "\n",
            "\n",
            "ON STEP: 1300\n",
            "ACCURACY: \n",
            "0.9841\n",
            "\n",
            "\n",
            "ON STEP: 1400\n",
            "ACCURACY: \n",
            "0.9841\n",
            "\n",
            "\n",
            "ON STEP: 1500\n",
            "ACCURACY: \n",
            "0.9876\n",
            "\n",
            "\n",
            "ON STEP: 1600\n",
            "ACCURACY: \n",
            "0.9845\n",
            "\n",
            "\n",
            "ON STEP: 1700\n",
            "ACCURACY: \n",
            "0.9864\n",
            "\n",
            "\n",
            "ON STEP: 1800\n",
            "ACCURACY: \n",
            "0.9852\n",
            "\n",
            "\n",
            "ON STEP: 1900\n",
            "ACCURACY: \n",
            "0.9893\n",
            "\n",
            "\n",
            "ON STEP: 2000\n",
            "ACCURACY: \n",
            "0.986\n",
            "\n",
            "\n",
            "ON STEP: 2100\n",
            "ACCURACY: \n",
            "0.9839\n",
            "\n",
            "\n",
            "ON STEP: 2200\n",
            "ACCURACY: \n",
            "0.9881\n",
            "\n",
            "\n",
            "ON STEP: 2300\n",
            "ACCURACY: \n",
            "0.987\n",
            "\n",
            "\n",
            "ON STEP: 2400\n",
            "ACCURACY: \n",
            "0.9887\n",
            "\n",
            "\n",
            "ON STEP: 2500\n",
            "ACCURACY: \n",
            "0.9865\n",
            "\n",
            "\n",
            "ON STEP: 2600\n",
            "ACCURACY: \n",
            "0.9881\n",
            "\n",
            "\n",
            "ON STEP: 2700\n",
            "ACCURACY: \n",
            "0.989\n",
            "\n",
            "\n",
            "ON STEP: 2800\n",
            "ACCURACY: \n",
            "0.9868\n",
            "\n",
            "\n",
            "ON STEP: 2900\n",
            "ACCURACY: \n",
            "0.9897\n",
            "\n",
            "\n",
            "ON STEP: 3000\n",
            "ACCURACY: \n",
            "0.9886\n",
            "\n",
            "\n",
            "ON STEP: 3100\n",
            "ACCURACY: \n",
            "0.9888\n",
            "\n",
            "\n",
            "ON STEP: 3200\n",
            "ACCURACY: \n",
            "0.988\n",
            "\n",
            "\n",
            "ON STEP: 3300\n",
            "ACCURACY: \n",
            "0.9888\n",
            "\n",
            "\n",
            "ON STEP: 3400\n",
            "ACCURACY: \n",
            "0.9907\n",
            "\n",
            "\n",
            "ON STEP: 3500\n",
            "ACCURACY: \n",
            "0.9905\n",
            "\n",
            "\n",
            "ON STEP: 3600\n",
            "ACCURACY: \n",
            "0.9902\n",
            "\n",
            "\n",
            "ON STEP: 3700\n",
            "ACCURACY: \n",
            "0.989\n",
            "\n",
            "\n",
            "ON STEP: 3800\n",
            "ACCURACY: \n",
            "0.992\n",
            "\n",
            "\n",
            "ON STEP: 3900\n",
            "ACCURACY: \n",
            "0.989\n",
            "\n",
            "\n",
            "ON STEP: 4000\n",
            "ACCURACY: \n",
            "0.9893\n",
            "\n",
            "\n",
            "ON STEP: 4100\n",
            "ACCURACY: \n",
            "0.9905\n",
            "\n",
            "\n",
            "ON STEP: 4200\n",
            "ACCURACY: \n",
            "0.9897\n",
            "\n",
            "\n",
            "ON STEP: 4300\n",
            "ACCURACY: \n",
            "0.9904\n",
            "\n",
            "\n",
            "ON STEP: 4400\n",
            "ACCURACY: \n",
            "0.9901\n",
            "\n",
            "\n",
            "ON STEP: 4500\n",
            "ACCURACY: \n",
            "0.9918\n",
            "\n",
            "\n",
            "ON STEP: 4600\n",
            "ACCURACY: \n",
            "0.9914\n",
            "\n",
            "\n",
            "ON STEP: 4700\n",
            "ACCURACY: \n",
            "0.9913\n",
            "\n",
            "\n",
            "ON STEP: 4800\n",
            "ACCURACY: \n",
            "0.9883\n",
            "\n",
            "\n",
            "ON STEP: 4900\n",
            "ACCURACY: \n",
            "0.9926\n",
            "\n",
            "\n"
          ],
          "name": "stdout"
        }
      ]
    },
    {
      "cell_type": "code",
      "metadata": {
        "id": "CNZBm74G9Wj9",
        "colab_type": "code",
        "colab": {}
      },
      "source": [
        ""
      ],
      "execution_count": 0,
      "outputs": []
    }
  ]
}